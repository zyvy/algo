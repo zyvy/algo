{
 "cells": [
  {
   "cell_type": "code",
   "execution_count": null,
   "id": "4508e3b8",
   "metadata": {},
   "outputs": [],
   "source": [
    "https://yandex.ru/yaintern/algorithm-training_1"
   ]
  },
  {
   "cell_type": "markdown",
   "id": "7d347e09",
   "metadata": {},
   "source": [
    "Линейный поиск - перебор всех элементов последовательности.\n",
    "Сложность О(N)"
   ]
  },
  {
   "cell_type": "markdown",
   "id": "448a7bcf",
   "metadata": {},
   "source": [
    "Задача 1: Дана последовательность чисел длиной N. Требуется найти первое (левое) вхождение положительного числа Х в нее или вывести -1 если такое число Х не встречалось"
   ]
  },
  {
   "cell_type": "markdown",
   "id": "96708747",
   "metadata": {},
   "source": [
    "Решение: положим в ответ -1 и начнем поиск перебирая все элементы. Если текущий элемент равен Х и ответ -1, то запишем в ответ текущую позицию"
   ]
  },
  {
   "cell_type": "code",
   "execution_count": null,
   "id": "ed722e47",
   "metadata": {},
   "outputs": [],
   "source": [
    "def findseq(seq, x):\n",
    "    answr = -1\n",
    "    for each in range(len(seq)):\n",
    "        if x == seq[each] and answr != -1:\n",
    "            answr = each\n",
    "    return answr"
   ]
  },
  {
   "cell_type": "markdown",
   "id": "003f191f",
   "metadata": {},
   "source": [
    "Задача 2: Дана последовательность чисел длиной N. Требуется найти последнее (правое) вхождение положительного числа Х в нее или вывести -1 если такое число Х не встречалось"
   ]
  },
  {
   "cell_type": "code",
   "execution_count": null,
   "id": "cdcd0752",
   "metadata": {},
   "outputs": [],
   "source": [
    "def findseq(seq, x):\n",
    "    answr = -1\n",
    "    for each in range(len(seq)):\n",
    "        if x == seq[each]:\n",
    "            answr = each\n",
    "    return answr"
   ]
  },
  {
   "cell_type": "markdown",
   "id": "1a4db6fc",
   "metadata": {},
   "source": [
    "Задача 3: Дана последовательность длиной N N>0. Найти максимальное число в последовательности."
   ]
  },
  {
   "cell_type": "code",
   "execution_count": null,
   "id": "4317545b",
   "metadata": {},
   "outputs": [],
   "source": [
    "def maxfind(N):\n",
    "    answr = N[0]\n",
    "    for each in range(len(N)):\n",
    "        if N[each] > answr:\n",
    "            answr = each\n",
    "    return answr"
   ]
  },
  {
   "cell_type": "markdown",
   "id": "a0ca7ad9",
   "metadata": {},
   "source": [
    "Задача 4: Дана последовательность длиной N N>1 Найти максимальное число в последовательности и второе по величине число."
   ]
  },
  {
   "cell_type": "code",
   "execution_count": null,
   "id": "0709326b",
   "metadata": {},
   "outputs": [],
   "source": [
    "def maxfind2(N):\n",
    "    answr1 = max(N[0], N[1])\n",
    "    answr2 = min(N[0], N[1])\n",
    "    for each in range(len(N)):\n",
    "        if N[each] > answr1:\n",
    "            answr1, answr2 = N[each], answr1\n",
    "        elif N[each] < answr1 and N[each] > answr2:\n",
    "            answr2 = N[each]\n",
    "    return (answr1, answr2)"
   ]
  },
  {
   "cell_type": "markdown",
   "id": "fd4649ee",
   "metadata": {},
   "source": [
    "Задача 5: Дана последовательность длиной N. Найти минимальное четное число в последовательности или вывести -1 если такого не существует"
   ]
  },
  {
   "cell_type": "code",
   "execution_count": null,
   "id": "bc392da6",
   "metadata": {},
   "outputs": [],
   "source": [
    " def minfind(N):\n",
    "        answr = -1\n",
    "        for each in range(len(N)):\n",
    "            if N[each] % 2 == 0 and (answr== -1 or N[each] < answr):\n",
    "                answr = N[each]\n",
    "    return answr"
   ]
  },
  {
   "cell_type": "markdown",
   "id": "e1615b22",
   "metadata": {},
   "source": [
    "Задача 6. Есть последовательность слов. Вывести все самые короткие слова через пробел."
   ]
  },
  {
   "cell_type": "markdown",
   "id": "e247e053",
   "metadata": {},
   "source": [
    "Если за один проход копить слова и одновременно определять минимум, то это будет очень долго. Особенно если копить сами слова а не ссылки на них. Копить в строках очень медленно поскольку строка - неизменяемый объект т.е. каждый раз пересоздается."
   ]
  },
  {
   "cell_type": "code",
   "execution_count": null,
   "id": "2a0c414a",
   "metadata": {},
   "outputs": [],
   "source": [
    "def shortwords(words):\n",
    "    minlen = len(words)\n",
    "    for word in words:\n",
    "        if len(word) < minlen:\n",
    "            minlen = len(word)\n",
    "    ans = []\n",
    "    for word in words:\n",
    "        if len[word] == minlen:\n",
    "            ans.append(word)\n",
    "    return ''.join(ans)\n",
    "        "
   ]
  },
  {
   "attachments": {},
   "cell_type": "markdown",
   "id": "335bb433",
   "metadata": {},
   "source": [
    "Задача 7. Игра PitCraft происходит в двумерном мире который состоит из блоков 1х1 метр. Остров игрока состоит из набора столбцов различной высоты состоящих из таких блоков. Прошел дождь который заполнил водой все низины, а не поместившаяся в них вода стекла в море не увеличив его уровень. По ландшафту острова определите сколько блоков воды осталось в низинах острова\n"
   ]
  },
  {
   "cell_type": "code",
   "execution_count": null,
   "id": "0d601188",
   "metadata": {},
   "outputs": [],
   "source": [
    "def isleflood(h):\n",
    "    maxpos = 0\n",
    "    for i in range(len(h)):\n",
    "        if h[i]>maxpos:\n",
    "            maxpos = i\n",
    "    ans = 0\n",
    "    nowm = 0\n",
    "    for i in range(maxpos):\n",
    "        if h[i] > nowm:\n",
    "            nowm = h[i]\n",
    "        ans += nowm - h[i]\n",
    "    nowm = 0\n",
    "    for i in range(len(h) - 1, maxpos, -1):\n",
    "        if h[i] > nowm:\n",
    "            nowm = h[i]\n",
    "        ans += nowm - h[i]\n",
    "    return ans\n",
    "                   "
   ]
  },
  {
   "cell_type": "markdown",
   "id": "a1754014",
   "metadata": {},
   "source": [
    "Задача 8. Дана строка, возможно пустая, состоящая из букв A-Z: AAAABBBCCXYZDDDDEEEFFF. Нужно написать функцию RLE которая на выходе дает сроку вида А4B3C2XY и сгенерирует ошибку, если на вход пришла невалидная строка. То есть если символ встречается 1 раз, то остается без изменений. Если повторяется более 1 раза к нему добавляется количество повторений.\n",
    "    "
   ]
  },
  {
   "cell_type": "code",
   "execution_count": null,
   "id": "eeaca96b",
   "metadata": {},
   "outputs": [],
   "source": [
    "def RLE(s):\n",
    "    def pack(s, cnt):\n",
    "        if cnt > 1:\n",
    "            return s + str(cnt)\n",
    "        return s\n",
    "    \n",
    "    lastsym = s[0]\n",
    "    lastpos = 0\n",
    "    ans = []\n",
    "    for i in range(len(s)):\n",
    "        if s[i] != lastsym:\n",
    "            ans.append(pack(lastsym, i - lastpos))\n",
    "            lastpos = i\n",
    "            lastsym = s[i]\n",
    "            \n",
    "    ans.append(pack(s[lastpos], len(s) - lastpos))\n",
    "    return ''.join(ans)\n",
    "    "
   ]
  },
  {
   "cell_type": "code",
   "execution_count": null,
   "id": "571692d0",
   "metadata": {},
   "outputs": [],
   "source": []
  },
  {
   "cell_type": "code",
   "execution_count": null,
   "id": "3a73d1bf",
   "metadata": {},
   "outputs": [],
   "source": []
  },
  {
   "cell_type": "code",
   "execution_count": null,
   "id": "8db8910c",
   "metadata": {},
   "outputs": [],
   "source": []
  },
  {
   "cell_type": "code",
   "execution_count": null,
   "id": "fea51d11",
   "metadata": {},
   "outputs": [],
   "source": []
  },
  {
   "cell_type": "code",
   "execution_count": null,
   "id": "6392d300",
   "metadata": {},
   "outputs": [],
   "source": []
  },
  {
   "cell_type": "code",
   "execution_count": null,
   "id": "7e6924c4",
   "metadata": {},
   "outputs": [],
   "source": []
  }
 ],
 "metadata": {
  "kernelspec": {
   "display_name": "Python 3 (ipykernel)",
   "language": "python",
   "name": "python3"
  },
  "language_info": {
   "codemirror_mode": {
    "name": "ipython",
    "version": 3
   },
   "file_extension": ".py",
   "mimetype": "text/x-python",
   "name": "python",
   "nbconvert_exporter": "python",
   "pygments_lexer": "ipython3",
   "version": "3.9.12"
  }
 },
 "nbformat": 4,
 "nbformat_minor": 5
}
