{
 "cells": [
  {
   "cell_type": "markdown",
   "id": "c9188734",
   "metadata": {},
   "source": [
    "    Множества SET"
   ]
  },
  {
   "cell_type": "code",
   "execution_count": null,
   "id": "4a6bc619",
   "metadata": {},
   "outputs": [],
   "source": [
    "class myset():\n",
    "    setsize = 10\n",
    "    myset = [[] for _ in range(setsize)]\n",
    "    def add(x):\n",
    "        myset[x % setsize].append(x)\n",
    "    def find(x):\n",
    "        for each in myset[x % setsize]:\n",
    "            if each == x:\n",
    "                return True\n",
    "        return False\n",
    "    def delete(x):\n",
    "        for each in len(myset[x % setsize]):\n",
    "            if myset[x % setsize][each] == x:\n",
    "                myset[x % setsize][each] = myset[x % setsize][len(myset[x % setsize]) - 1]\n",
    "                myset[x % setsize].pop()"
   ]
  },
  {
   "cell_type": "markdown",
   "id": "1a55f029",
   "metadata": {},
   "source": [
    "Эффективно - только неизменяемые объекты"
   ]
  },
  {
   "cell_type": "markdown",
   "id": "016d49b6",
   "metadata": {},
   "source": [
    "Задача 1. Дана последовательность положительных чисел длины N и число Х. Нужно найти два таких разных числа из последовательности чтобы А+Б=Х или вернуть 0,0 если таких чисел нет"
   ]
  },
  {
   "cell_type": "code",
   "execution_count": null,
   "id": "b7cd31bf",
   "metadata": {},
   "outputs": [],
   "source": [
    "def lesson1(firstnum, x):\n",
    "    secondnum = set()\n",
    "    for each in firstnum:\n",
    "        if x - each in secondnum:\n",
    "            return (each, x-each)\n",
    "        else:\n",
    "            secondnum.add(each)\n",
    "    return 0,0"
   ]
  },
  {
   "cell_type": "markdown",
   "id": "cc7dd74e",
   "metadata": {},
   "source": [
    "Задача 2. Дан словарь из N слов, длина каждого не превышает K.\n",
    "В записи каждого из M слов текста может быть пропущена одна буква. Для каждого слова определить, входит ли оно (с возможной пропущенной буквой) в словарь"
   ]
  },
  {
   "cell_type": "markdown",
   "id": "627a6977",
   "metadata": {},
   "source": [
    "Создаем множество из всех возможных комбинаций слов (полное + варианты с отсутствующей буквой) и проверяем новые слова на присутствие в множестве"
   ]
  },
  {
   "cell_type": "code",
   "execution_count": null,
   "id": "f0ec12ff",
   "metadata": {},
   "outputs": [],
   "source": [
    "def wordsindict(dictin, word):\n",
    "    myset = set(dictin)\n",
    "    for each in dictin:\n",
    "        for i in range(len(each)):\n",
    "            myset.add(each[:i]+each[i+1:])\n",
    "    ans = []\n",
    "    for each in word:\n",
    "        if each in myset:\n",
    "            ans.append(each)\n",
    "    return ans"
   ]
  },
  {
   "cell_type": "code",
   "execution_count": null,
   "id": "b9e0ecf8",
   "metadata": {},
   "outputs": [],
   "source": []
  },
  {
   "cell_type": "code",
   "execution_count": null,
   "id": "455a5004",
   "metadata": {},
   "outputs": [],
   "source": []
  },
  {
   "cell_type": "code",
   "execution_count": null,
   "id": "87bea9dd",
   "metadata": {},
   "outputs": [],
   "source": []
  },
  {
   "cell_type": "code",
   "execution_count": null,
   "id": "fbd3ca30",
   "metadata": {},
   "outputs": [],
   "source": []
  },
  {
   "cell_type": "code",
   "execution_count": null,
   "id": "5b479b68",
   "metadata": {},
   "outputs": [],
   "source": []
  },
  {
   "cell_type": "code",
   "execution_count": null,
   "id": "96c823a9",
   "metadata": {},
   "outputs": [],
   "source": []
  },
  {
   "cell_type": "code",
   "execution_count": null,
   "id": "cb79ee9c",
   "metadata": {},
   "outputs": [],
   "source": []
  },
  {
   "cell_type": "code",
   "execution_count": null,
   "id": "56062cd7",
   "metadata": {},
   "outputs": [],
   "source": []
  },
  {
   "cell_type": "code",
   "execution_count": null,
   "id": "4f8fd344",
   "metadata": {},
   "outputs": [],
   "source": []
  },
  {
   "cell_type": "code",
   "execution_count": null,
   "id": "ee310c92",
   "metadata": {},
   "outputs": [],
   "source": []
  },
  {
   "cell_type": "code",
   "execution_count": null,
   "id": "24fc5373",
   "metadata": {},
   "outputs": [],
   "source": []
  },
  {
   "cell_type": "code",
   "execution_count": null,
   "id": "8da26af6",
   "metadata": {},
   "outputs": [],
   "source": []
  },
  {
   "cell_type": "code",
   "execution_count": null,
   "id": "1fbf2b66",
   "metadata": {},
   "outputs": [],
   "source": []
  },
  {
   "cell_type": "code",
   "execution_count": null,
   "id": "1bd8d6b5",
   "metadata": {},
   "outputs": [],
   "source": []
  }
 ],
 "metadata": {
  "kernelspec": {
   "display_name": "Python 3 (ipykernel)",
   "language": "python",
   "name": "python3"
  },
  "language_info": {
   "codemirror_mode": {
    "name": "ipython",
    "version": 3
   },
   "file_extension": ".py",
   "mimetype": "text/x-python",
   "name": "python",
   "nbconvert_exporter": "python",
   "pygments_lexer": "ipython3",
   "version": "3.9.13"
  }
 },
 "nbformat": 4,
 "nbformat_minor": 5
}
