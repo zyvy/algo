{
 "cells": [
  {
   "cell_type": "markdown",
   "id": "38351c55",
   "metadata": {},
   "source": [
    "Задача вычислить число Фиббоначи"
   ]
  },
  {
   "cell_type": "markdown",
   "id": "592509a1",
   "metadata": {},
   "source": [
    "Наивный метод с рекурсией"
   ]
  },
  {
   "cell_type": "code",
   "execution_count": 4,
   "id": "df15c157",
   "metadata": {},
   "outputs": [],
   "source": [
    "def fib1(n):\n",
    "    assert n >= 0\n",
    "    if n == 0:\n",
    "        return 0\n",
    "    if n == 1:\n",
    "        return 1\n",
    "    else:\n",
    "        return fib1(n-2)+fib1(n-1)"
   ]
  },
  {
   "cell_type": "code",
   "execution_count": 5,
   "id": "3a38b999",
   "metadata": {},
   "outputs": [
    {
     "data": {
      "text/plain": [
       "21"
      ]
     },
     "execution_count": 5,
     "metadata": {},
     "output_type": "execute_result"
    }
   ],
   "source": [
    "fib1(8)"
   ]
  },
  {
   "cell_type": "markdown",
   "id": "894f888e",
   "metadata": {},
   "source": [
    "Напишем декоратор для замера времени"
   ]
  },
  {
   "cell_type": "code",
   "execution_count": 64,
   "id": "0490c2db",
   "metadata": {},
   "outputs": [],
   "source": [
    "import time\n",
    "def timecheck(f, *args, iter = 100):\n",
    "    minn = float('inf')\n",
    "    for a in range(iter):\n",
    "        t1 = time.perf_counter()\n",
    "        r = f(*args)\n",
    "        t2 = time.perf_counter()\n",
    "        minn = min(minn,t2 - t1)\n",
    "    return minn"
   ]
  },
  {
   "cell_type": "code",
   "execution_count": 56,
   "id": "262ef5cf",
   "metadata": {},
   "outputs": [
    {
     "data": {
      "text/plain": [
       "(6765, 0.004824679999728687, 8478.455580937, 8478.460543286)"
      ]
     },
     "execution_count": 56,
     "metadata": {},
     "output_type": "execute_result"
    }
   ],
   "source": [
    "timecheck(fib1, 20)"
   ]
  },
  {
   "cell_type": "markdown",
   "id": "09f01585",
   "metadata": {},
   "source": [
    "Начнем сохранять ранее расчитанные значения"
   ]
  },
  {
   "cell_type": "code",
   "execution_count": 57,
   "id": "9ebf7611",
   "metadata": {},
   "outputs": [],
   "source": [
    "from functools import lru_cache\n",
    "fib2 = lru_cache(maxsize = None)(fib1)"
   ]
  },
  {
   "cell_type": "code",
   "execution_count": 58,
   "id": "eee36c23",
   "metadata": {},
   "outputs": [
    {
     "data": {
      "text/plain": [
       "21"
      ]
     },
     "execution_count": 58,
     "metadata": {},
     "output_type": "execute_result"
    }
   ],
   "source": [
    "fib2(8)"
   ]
  },
  {
   "cell_type": "code",
   "execution_count": 60,
   "id": "9e8f4aa2",
   "metadata": {},
   "outputs": [
    {
     "data": {
      "text/plain": [
       "(5702887, 0.0, 8513.557976842, 8513.557977171)"
      ]
     },
     "execution_count": 60,
     "metadata": {},
     "output_type": "execute_result"
    }
   ],
   "source": [
    "timecheck(fib2, 34)"
   ]
  },
  {
   "cell_type": "markdown",
   "id": "1b91a74a",
   "metadata": {},
   "source": [
    "Другой способ записи"
   ]
  },
  {
   "cell_type": "code",
   "execution_count": 22,
   "id": "0a2dec59",
   "metadata": {},
   "outputs": [],
   "source": [
    "@lru_cache(maxsize = None)\n",
    "def fib1_1(n):\n",
    "    assert n >= 0\n",
    "    if n == 0:\n",
    "        return 0\n",
    "    if n == 1:\n",
    "        return 1\n",
    "    else:\n",
    "        return fib1(n-2)+fib1(n-1)"
   ]
  },
  {
   "cell_type": "code",
   "execution_count": 23,
   "id": "27674a94",
   "metadata": {},
   "outputs": [
    {
     "data": {
      "text/plain": [
       "0.0"
      ]
     },
     "execution_count": 23,
     "metadata": {},
     "output_type": "execute_result"
    }
   ],
   "source": [
    "timecheck(fib1_1, 20)"
   ]
  },
  {
   "cell_type": "markdown",
   "id": "11b1b70c",
   "metadata": {},
   "source": [
    "Линейный способ"
   ]
  },
  {
   "cell_type": "code",
   "execution_count": 24,
   "id": "560585d1",
   "metadata": {},
   "outputs": [],
   "source": [
    "def fib3(n):\n",
    "    f0 = 0\n",
    "    f1 = 1\n",
    "    for a in range(n-1):\n",
    "        f0, f1 = f1, f0 + f1\n",
    "    return f1"
   ]
  },
  {
   "cell_type": "code",
   "execution_count": 25,
   "id": "65905e93",
   "metadata": {},
   "outputs": [
    {
     "data": {
      "text/plain": [
       "21"
      ]
     },
     "execution_count": 25,
     "metadata": {},
     "output_type": "execute_result"
    }
   ],
   "source": [
    "fib3(8)"
   ]
  },
  {
   "cell_type": "code",
   "execution_count": 26,
   "id": "dfac6ae2",
   "metadata": {},
   "outputs": [
    {
     "data": {
      "text/plain": [
       "8.365500025320216e-05"
      ]
     },
     "execution_count": 26,
     "metadata": {},
     "output_type": "execute_result"
    }
   ],
   "source": [
    "timecheck(fib3, 1000)"
   ]
  },
  {
   "cell_type": "markdown",
   "id": "0abfde27",
   "metadata": {},
   "source": [
    "Построим графики времени расчета"
   ]
  },
  {
   "cell_type": "code",
   "execution_count": 27,
   "id": "51005dde",
   "metadata": {},
   "outputs": [],
   "source": [
    "from matplotlib import pyplot"
   ]
  },
  {
   "cell_type": "code",
   "execution_count": 31,
   "id": "cc553bc4",
   "metadata": {},
   "outputs": [],
   "source": [
    "def graph(fs, args):\n",
    "    for f in fs:\n",
    "        pyplot.plot(args, [timecheck(f, arg) for arg in args])\n",
    "        pyplot.legend()\n",
    "        pyplot.grid(True)"
   ]
  },
  {
   "cell_type": "code",
   "execution_count": 33,
   "id": "c013d28c",
   "metadata": {},
   "outputs": [
    {
     "name": "stderr",
     "output_type": "stream",
     "text": [
      "No artists with labels found to put in legend.  Note that artists whose label start with an underscore are ignored when legend() is called with no argument.\n"
     ]
    },
    {
     "data": {
      "image/png": "[encoded data removed]",
      "text/plain": [
       "<Figure size 432x288 with 1 Axes>"
      ]
     },
     "metadata": {
      "needs_background": "light"
     },
     "output_type": "display_data"
    }
   ],
   "source": [
    "graph((fib1,),list(range(10)))"
   ]
  },
  {
   "cell_type": "code",
   "execution_count": 61,
   "id": "98d48ab0",
   "metadata": {},
   "outputs": [
    {
     "name": "stderr",
     "output_type": "stream",
     "text": [
      "No artists with labels found to put in legend.  Note that artists whose label start with an underscore are ignored when legend() is called with no argument.\n"
     ]
    },
    {
     "data": {
      "image/png": "[encoded data removed]",
      "text/plain": [
       "<Figure size 432x288 with 1 Axes>"
      ]
     },
     "metadata": {
      "needs_background": "light"
     },
     "output_type": "display_data"
    }
   ],
   "source": [
    "graph((fib2,),list(range(20)))"
   ]
  },
  {
   "cell_type": "code",
   "execution_count": 62,
   "id": "fa699fd6",
   "metadata": {},
   "outputs": [
    {
     "name": "stderr",
     "output_type": "stream",
     "text": [
      "No artists with labels found to put in legend.  Note that artists whose label start with an underscore are ignored when legend() is called with no argument.\n"
     ]
    },
    {
     "data": {
      "image/png": "[encoded data removed]",
      "text/plain": [
       "<Figure size 432x288 with 1 Axes>"
      ]
     },
     "metadata": {
      "needs_background": "light"
     },
     "output_type": "display_data"
    }
   ],
   "source": [
    "graph((fib1_1,),list(range(30)))"
   ]
  },
  {
   "cell_type": "code",
   "execution_count": 65,
   "id": "18f926ca",
   "metadata": {},
   "outputs": [
    {
     "name": "stderr",
     "output_type": "stream",
     "text": [
      "No artists with labels found to put in legend.  Note that artists whose label start with an underscore are ignored when legend() is called with no argument.\n"
     ]
    },
    {
     "data": {
      "image/png": "[encoded data removed]",
      "text/plain": [
       "<Figure size 432x288 with 1 Axes>"
      ]
     },
     "metadata": {
      "needs_background": "light"
     },
     "output_type": "display_data"
    }
   ],
   "source": [
    "graph((fib3,),list(range(100)))"
   ]
  },
  {
   "cell_type": "code",
   "execution_count": null,
   "id": "57724ca1",
   "metadata": {},
   "outputs": [],
   "source": []
  }
 ],
 "metadata": {
  "kernelspec": {
   "display_name": "Python 3 (ipykernel)",
   "language": "python",
   "name": "python3"
  },
  "language_info": {
   "codemirror_mode": {
    "name": "ipython",
    "version": 3
   },
   "file_extension": ".py",
   "mimetype": "text/x-python",
   "name": "python",
   "nbconvert_exporter": "python",
   "pygments_lexer": "ipython3",
   "version": "3.9.12"
  }
 },
 "nbformat": 4,
 "nbformat_minor": 5
}
